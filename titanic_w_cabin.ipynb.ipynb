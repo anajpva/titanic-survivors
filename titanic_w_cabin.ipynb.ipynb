{
 "cells": [
  {
   "cell_type": "code",
   "execution_count": null,
   "id": "bb1af330-30b7-4cd8-a47d-5a3237af26f8",
   "metadata": {},
   "outputs": [],
   "source": [
    "import numpy as np\n",
    "import pandas as pd\n",
    "import matplotlib.pyplot as plt\n",
    "import seaborn as sns\n",
    "from sklearn.impute import KNNImputer"
   ]
  },
  {
   "cell_type": "code",
   "execution_count": null,
   "id": "0d613371-810b-4239-88d4-fb131366e7d5",
   "metadata": {},
   "outputs": [],
   "source": [
    "data = pd.read_csv('data/train.csv')\n",
    "data_test = pd.read_csv('data/test.csv')"
   ]
  },
  {
   "cell_type": "code",
   "execution_count": null,
   "id": "e4b99ab5-47ec-4de5-bfcf-7d046761dcb6",
   "metadata": {},
   "outputs": [],
   "source": [
    "data.describe()"
   ]
  },
  {
   "cell_type": "code",
   "execution_count": null,
   "id": "e0c74c1c-bf01-425f-b095-1e75e5f2823c",
   "metadata": {},
   "outputs": [],
   "source": [
    "def plot_corr_heatmap(_data, cmap=\"coolwarm\"):\n",
    "    # Only numeric columns are selected\n",
    "    numeric_data = _data.select_dtypes(include=[\"number\"])\n",
    "    sns.heatmap(numeric_data.corr(), center=0, cmap=cmap, linewidth=.5 )\n",
    "    plt.show()"
   ]
  },
  {
   "cell_type": "code",
   "execution_count": null,
   "id": "5c4e804b-8720-4ce3-9da5-4859b126005c",
   "metadata": {},
   "outputs": [],
   "source": [
    "# Create 'is_female' column.\n",
    "# Missing age => relationship between sex, parch, sibsp, and class/fare?\n",
    "# Remove PassengerId, Name, and Ticket since they do not seem to be good sources of information.\n",
    "# Take a look at Cabin info"
   ]
  },
  {
   "cell_type": "code",
   "execution_count": null,
   "id": "ce3c5953-4f8e-423a-bdbc-dea8cb562260",
   "metadata": {
    "scrolled": true
   },
   "outputs": [],
   "source": [
    "plot_corr_heatmap(data)\n",
    "\n",
    "# Pclass and ticket fare have a noticeable correlation, and a minor one between siblings/spouse and parent/children and age"
   ]
  },
  {
   "cell_type": "code",
   "execution_count": null,
   "id": "c3ab2403-bffe-49da-aefd-70e20f826537",
   "metadata": {
    "scrolled": true
   },
   "outputs": [],
   "source": [
    "data.info()\n",
    "\n",
    "# Age has some null values, we'll try to estimate an average value considering the class, siblings/spouse and parent/children values.\n",
    "# The cabin value will be ignored. \n",
    "# Embarked will be replaced with a default value."
   ]
  },
  {
   "cell_type": "code",
   "execution_count": null,
   "id": "a418f523-dd98-4f46-b27d-c4c42e9802ec",
   "metadata": {},
   "outputs": [],
   "source": [
    "# Create KNN imputer\n",
    "def age_imputer(data):\n",
    "    knn_imputer = KNNImputer(n_neighbors=7)\n",
    "    columns_to_impute = [\"Age\", \"Pclass\", \"SibSp\", \"Parch\"]\n",
    "    \n",
    "    data_imputed = pd.DataFrame(knn_imputer.fit_transform(data[columns_to_impute]), columns=columns_to_impute)\n",
    "    \n",
    "    #data_imputed.info()\n",
    "    data[columns_to_impute]=data_imputed"
   ]
  },
  {
   "cell_type": "code",
   "execution_count": null,
   "id": "f5b58abe-c063-4c06-a31a-ea5df98a166e",
   "metadata": {},
   "outputs": [],
   "source": [
    "def is_female_imputer(data):\n",
    "    data['IsFemale']=data['Sex'].apply(lambda x: 0 if x == 'male' else (1 if x == 'female' else -1))"
   ]
  },
  {
   "cell_type": "code",
   "execution_count": null,
   "id": "dc8b34f1-5387-4504-b91d-86e492830660",
   "metadata": {},
   "outputs": [],
   "source": [
    "# This can be done with One Hot Encoding\n",
    "def embarked_encoder(data):\n",
    "    data['C'] = data['Embarked'].apply(lambda x: 1 if x == 'C' else 0)\n",
    "    data['S'] = data['Embarked'].apply(lambda x: 1 if x == 'S' else 0)\n",
    "    data['Q'] = data['Embarked'].apply(lambda x: 1 if x == 'Q' else 0)\n",
    "    data['N'] = data['Embarked'].apply(lambda x: 1 if x not in ['C', 'S', 'Q'] else 0)"
   ]
  },
  {
   "cell_type": "code",
   "execution_count": null,
   "id": "86273c82-c6ab-460c-839a-8960d9d11c71",
   "metadata": {},
   "outputs": [],
   "source": [
    "def feature_dropper(data):\n",
    "    data.drop([\"PassengerId\",\"Name\",\"Sex\",\"Ticket\",\"Cabin\",\"Embarked\",\"cabin_type\"], axis=1, inplace=True)"
   ]
  },
  {
   "cell_type": "code",
   "execution_count": null,
   "id": "940c02c5-8b58-476c-b47b-88c0a6626b9f",
   "metadata": {},
   "outputs": [],
   "source": [
    "# This can be done with One Hot Encoding\n",
    "def cabin_info_imputer(data):    \n",
    "    data[\"cabin_type\"] = data[\"Cabin\"].str[0].fillna(\"U\")\n",
    "        \n",
    "    data['CTA'] = data['cabin_type'].apply(lambda x: 1 if x[0] == 'A' else 0)\n",
    "    data['CTB'] = data['cabin_type'].apply(lambda x: 1 if x[0] == 'B' else 0)\n",
    "    data['CTC'] = data['cabin_type'].apply(lambda x: 1 if x[0] == 'C' else 0)\n",
    "    data['CTD'] = data['cabin_type'].apply(lambda x: 1 if x[0] == 'D' else 0)\n",
    "    data['CTE'] = data['cabin_type'].apply(lambda x: 1 if x[0] == 'E' else 0)\n",
    "    data['CTF'] = data['cabin_type'].apply(lambda x: 1 if x[0] == 'F' else 0)\n",
    "    data['CTG'] = data['cabin_type'].apply(lambda x: 1 if x[0] == 'G' else 0)\n",
    "    data['CTT'] = data['cabin_type'].apply(lambda x: 1 if x[0] == 'T' else 0)\n",
    "    data['CTN'] = data['cabin_type'].apply(lambda x: 1 if x not in ['A','B','C','D','E','F','G','T'] else 0)\n",
    "\n",
    "    data[\"cabin_number\"] = data[\"Cabin\"].str.split(\" \").apply(lambda x: len(x) if isinstance(x, list) else 0)\n",
    "\n",
    "    return data"
   ]
  },
  {
   "cell_type": "code",
   "execution_count": null,
   "id": "4a189ca9-b2c7-4252-a38f-f20023099654",
   "metadata": {
    "scrolled": true
   },
   "outputs": [],
   "source": [
    "# Is having a cabin number correlated with survival?\n",
    "data_cabin = cabin_info_imputer(data.copy())\n",
    "pd.pivot_table(data_cabin, index=\"Survived\", columns=\"cabin_type\", values='Pclass', aggfunc='count')"
   ]
  },
  {
   "cell_type": "code",
   "execution_count": null,
   "id": "9f6e6446-8982-4051-937f-66bf43b6bfb2",
   "metadata": {},
   "outputs": [],
   "source": [
    "# Is the number of cabins correlated with survival? \n",
    "pd.pivot_table(data_cabin, index=\"Survived\", columns=\"cabin_number\", values='Pclass', aggfunc='count')"
   ]
  },
  {
   "cell_type": "code",
   "execution_count": null,
   "id": "af13b89c-41f7-4e9d-a2ac-5155476e78af",
   "metadata": {},
   "outputs": [],
   "source": [
    "def feature_transform(data):\n",
    "    data['Fare'] = np.log(data.Fare+1)"
   ]
  },
  {
   "cell_type": "code",
   "execution_count": null,
   "id": "0fc8e5d6-beae-4f20-b23a-2d87849a683d",
   "metadata": {},
   "outputs": [],
   "source": [
    "def imputer(data):\n",
    "    data_imputer = data.copy()\n",
    "    age_imputer(data_imputer)\n",
    "    is_female_imputer(data_imputer)\n",
    "    cabin_info_imputer(data_imputer)\n",
    "    embarked_encoder(data_imputer)\n",
    "    feature_dropper(data_imputer)\n",
    "    feature_transform(data_imputer)\n",
    "    \n",
    "    return data_imputer"
   ]
  },
  {
   "cell_type": "code",
   "execution_count": null,
   "id": "db47a07b-0e29-43bb-8459-dec6b004a8f2",
   "metadata": {},
   "outputs": [],
   "source": [
    "data_final = data.copy()"
   ]
  },
  {
   "cell_type": "code",
   "execution_count": null,
   "id": "9a2385af-0272-4597-ac3f-4a83c6e1cfc5",
   "metadata": {},
   "outputs": [],
   "source": [
    "data_final.info()"
   ]
  },
  {
   "cell_type": "code",
   "execution_count": null,
   "id": "9860a049-d169-4d5f-8917-33f94cd9c0e9",
   "metadata": {
    "scrolled": true
   },
   "outputs": [],
   "source": [
    "plot_corr_heatmap(data_final)"
   ]
  },
  {
   "cell_type": "code",
   "execution_count": null,
   "id": "8e810ba1-418c-4db5-acb4-f87f88b3db92",
   "metadata": {},
   "outputs": [],
   "source": [
    "data_numeric_columns = data_final.select_dtypes(include=['number']).columns\n",
    "\n",
    "plot_cols = 2\n",
    "plot_rows = (len(data_numeric_columns) + plot_cols - 1) // plot_cols\n",
    "fig, axes = plt.subplots(plot_rows, plot_cols, figsize=(15, 5 * plot_rows))\n",
    "\n",
    "for i, column in enumerate(data_numeric_columns):\n",
    "    row, col = divmod(i, plot_cols) \n",
    "    ax = axes[row, col] if plot_rows > 1 else axes[col]\n",
    "    data_final[column].hist(ax=ax, bins=20, color=\"skyblue\", edgecolor=\"white\")\n",
    "    ax.set_title(column)\n",
    "\n",
    "for j in range(len(data_numeric_columns), plot_rows * plot_cols):\n",
    "    row, col = divmod(j, plot_cols)\n",
    "    fig.delaxes(axes[row, col] if plot_rows > 1 else axes[col])\n",
    "\n",
    "plt.tight_layout()\n",
    "plt.show()\n",
    "\n",
    "# Age seems to have a normal distribution by itself.\n",
    "# Fare may be transformed into a log distribution (feature_transform function)."
   ]
  },
  {
   "cell_type": "code",
   "execution_count": null,
   "id": "3088dc87-c154-4b7c-81db-3bd4bfc52f12",
   "metadata": {},
   "outputs": [],
   "source": [
    "data_final = imputer(data)"
   ]
  },
  {
   "cell_type": "code",
   "execution_count": null,
   "id": "1f6eb90e-25cc-4e10-95c2-b18ae4b01e10",
   "metadata": {},
   "outputs": [],
   "source": [
    "from sklearn.preprocessing import StandardScaler"
   ]
  },
  {
   "cell_type": "code",
   "execution_count": null,
   "id": "703f34c3-f706-4e46-89f1-e7c33687b350",
   "metadata": {},
   "outputs": [],
   "source": [
    "def preprocess(data):\n",
    "    scaler = StandardScaler()\n",
    "    \n",
    "    data_numeric_columns = data.select_dtypes(include=['number']).columns\n",
    "\n",
    "    X_data = data.copy();\n",
    "    y_data = None;\n",
    "    \n",
    "    if \"Survived\" in data_numeric_columns:        \n",
    "        X_data = data.drop([\"Survived\"], axis=1)\n",
    "        y = data[\"Survived\"]\n",
    "        \n",
    "        y_data = y.to_numpy()\n",
    "    \n",
    "    X_data_numeric_columns = X_data.select_dtypes(include=['number']).columns\n",
    "    X_data[X_data_numeric_columns] = scaler.fit_transform(X_data[X_data_numeric_columns])\n",
    "    \n",
    "    return X_data, y_data"
   ]
  },
  {
   "cell_type": "code",
   "execution_count": null,
   "id": "acb4ba90-06c5-48c1-a196-b07205bc7faf",
   "metadata": {},
   "outputs": [],
   "source": [
    "X_data, y_data = preprocess(data_final)"
   ]
  },
  {
   "cell_type": "code",
   "execution_count": null,
   "id": "72261958-ced5-43ae-83b0-6fe2b78458e1",
   "metadata": {},
   "outputs": [],
   "source": [
    "X_data"
   ]
  },
  {
   "cell_type": "code",
   "execution_count": null,
   "id": "c508e4de-b428-44d2-aac0-4737a7894e11",
   "metadata": {},
   "outputs": [],
   "source": [
    "from sklearn.ensemble import RandomForestClassifier\n",
    "from sklearn.model_selection import GridSearchCV\n",
    "\n",
    "rfc = RandomForestClassifier()\n",
    "\n",
    "param_grid = [{\n",
    "    \"n_estimators\": [10,100, 200, 500, 1000], \n",
    "    \"max_depth\": [None, 5, 10, 15], \n",
    "    \"min_samples_split\":[2,3,4,5]\n",
    "}]\n",
    "\n",
    "grid_search = GridSearchCV(rfc, param_grid, cv=4, scoring=\"accuracy\", return_train_score=True)\n",
    "grid_search.fit(X_data, y_data)"
   ]
  },
  {
   "cell_type": "code",
   "execution_count": null,
   "id": "171fb2d8-84c1-4e2e-8ab4-23c6a309d3f5",
   "metadata": {},
   "outputs": [],
   "source": [
    "final_rfc = grid_search.best_estimator_\n",
    "final_rfc"
   ]
  },
  {
   "cell_type": "code",
   "execution_count": null,
   "id": "8b48d482-8317-40d4-a587-d088eda52817",
   "metadata": {},
   "outputs": [],
   "source": [
    "data_test_final = imputer(data_test)"
   ]
  },
  {
   "cell_type": "code",
   "execution_count": null,
   "id": "ebe8ee41-624b-4780-b52d-43164dccae4b",
   "metadata": {},
   "outputs": [],
   "source": [
    "data_test_final.info()"
   ]
  },
  {
   "cell_type": "code",
   "execution_count": null,
   "id": "1d9c317c-c56c-4fcb-bd0e-fe724195dbca",
   "metadata": {},
   "outputs": [],
   "source": [
    "data_test_final=data_test_final.fillna(method=\"ffill\")"
   ]
  },
  {
   "cell_type": "code",
   "execution_count": null,
   "id": "8082e3c8-848e-43ee-9f3a-981df64290aa",
   "metadata": {},
   "outputs": [],
   "source": [
    "X_data_test, _ = preprocess(data_test_final)"
   ]
  },
  {
   "cell_type": "code",
   "execution_count": null,
   "id": "b9dd8a1f-94aa-42a0-a44e-17d31b30093a",
   "metadata": {},
   "outputs": [],
   "source": [
    "predictions = final_rfc.predict(X_data_test)"
   ]
  },
  {
   "cell_type": "code",
   "execution_count": null,
   "id": "0004daff-e1e3-43d7-a37b-864e3aacafbe",
   "metadata": {},
   "outputs": [],
   "source": [
    "final_df = pd.DataFrame(data_test[\"PassengerId\"])\n",
    "final_df['Survived']=predictions\n",
    "final_df.to_csv(\"data/predictions_w_cabin.csv\", index=False)"
   ]
  },
  {
   "cell_type": "code",
   "execution_count": null,
   "id": "7957f211-4ac9-4f7c-b55f-10892b97d4e5",
   "metadata": {},
   "outputs": [],
   "source": [
    "final_df"
   ]
  }
 ],
 "metadata": {
  "kernelspec": {
   "display_name": "Python 3 (ipykernel)",
   "language": "python",
   "name": "python3"
  },
  "language_info": {
   "codemirror_mode": {
    "name": "ipython",
    "version": 3
   },
   "file_extension": ".py",
   "mimetype": "text/x-python",
   "name": "python",
   "nbconvert_exporter": "python",
   "pygments_lexer": "ipython3",
   "version": "3.12.3"
  }
 },
 "nbformat": 4,
 "nbformat_minor": 5
}
